{
 "cells": [
  {
   "cell_type": "code",
   "execution_count": 1,
   "id": "811d6108",
   "metadata": {},
   "outputs": [],
   "source": [
    "import openai\n",
    "import os\n",
    "\n",
    "from dotenv import load_dotenv, find_dotenv\n",
    "_ = load_dotenv(find_dotenv())\n",
    "\n",
    "openai.api_key  = os.getenv('OPENAI_API_KEY')\n",
    "#print(os.getenv('OPENAI_API_KEY'))"
   ]
  },
  {
   "cell_type": "code",
   "execution_count": 2,
   "id": "87e0a015",
   "metadata": {},
   "outputs": [],
   "source": [
    "def get_completion_from_messages(messages, \n",
    "                                 model=\"gpt-3.5-turbo\", \n",
    "                                 temperature=0, \n",
    "                                 max_tokens=500):\n",
    "    response = openai.ChatCompletion.create(\n",
    "        model=model,\n",
    "        messages=messages,\n",
    "        temperature=temperature, \n",
    "        max_tokens=max_tokens, \n",
    "    )\n",
    "    return response.choices[0].message[\"content\"]"
   ]
  },
  {
   "cell_type": "code",
   "execution_count": 3,
   "id": "0d11f604",
   "metadata": {},
   "outputs": [],
   "source": [
    "# product information\n",
    "trains = {\n",
    "    \"Frecciarossa 123\": {\n",
    "        \"partenza\": \"Milano\",\n",
    "        \"arrivo\": \"Roma\",\n",
    "        \"data partenza\": \"9/10/2023\",\n",
    "        \"ora partenza\": \"8.00\",\n",
    "        \"data arrivo\": \"9/10/2023\",\n",
    "        \"ora arrivo\": \"11.00\",\n",
    "        \"fermate intermedie\": [\"Bologna\", \"Firenze\"],\n",
    "        \"description\": \"A sleek and lightweight ultrabook for everyday use.\",\n",
    "        \"prezzo prima classe\": 160.000,\n",
    "        \"prezzo seconda classe\": 160.000,\n",
    "    },\n",
    "    \"Frecciarossa 132\": {\n",
    "        \"partenza\": \"Milano\",\n",
    "        \"arrivo\": \"Roma\",\n",
    "        \"data partenza\": \"9/10/2023\",\n",
    "        \"ora partenza\": \"9.00\",\n",
    "        \"data arrivo\": \"9/10/2023\",\n",
    "        \"ora arrivo\": \"12.00\",\n",
    "        \"fermate intermedie\": [\"Bologna\", \"Firenze\"],\n",
    "        \"description\": \"A sleek and lightweight ultrabook for everyday use.\",\n",
    "        \"prezzo prima classe\": 160.000,\n",
    "        \"prezzo seconda classe\": 160.000,\n",
    "    }\n",
    "}"
   ]
  },
  {
   "cell_type": "code",
   "execution_count": 4,
   "id": "c2fd2a83",
   "metadata": {},
   "outputs": [],
   "source": [
    "#def get_product_by_name(name):\n",
    "#    return products.get(name, None)\n",
    "\n",
    "#def get_products_by_category(category):\n",
    "#    return [product for product in products.values() if product[\"category\"] == category]"
   ]
  },
  {
   "cell_type": "code",
   "execution_count": 9,
   "id": "2dbe128b",
   "metadata": {},
   "outputs": [],
   "source": [
    "import json \n",
    "\n",
    "def read_string_to_list(input_string):\n",
    "    if input_string is None:\n",
    "        return None\n",
    "\n",
    "    try:\n",
    "        input_string = input_string.replace(\"'\", \"\\\"\")  # Replace single quotes with double quotes for valid JSON\n",
    "        data = json.loads(input_string)\n",
    "        print(data)\n",
    "        return data\n",
    "    except json.JSONDecodeError:\n",
    "        print(\"Error: Invalid JSON string\")\n",
    "        return None "
   ]
  },
  {
   "cell_type": "code",
   "execution_count": 8,
   "id": "42c41fda",
   "metadata": {},
   "outputs": [
    {
     "ename": "NameError",
     "evalue": "name 'category_and_product_response_1' is not defined",
     "output_type": "error",
     "traceback": [
      "\u001b[1;31m---------------------------------------------------------------------------\u001b[0m",
      "\u001b[1;31mNameError\u001b[0m                                 Traceback (most recent call last)",
      "Cell \u001b[1;32mIn[8], line 1\u001b[0m\n\u001b[1;32m----> 1\u001b[0m category_and_product_list \u001b[38;5;241m=\u001b[39m read_string_to_list(\u001b[43mcategory_and_product_response_1\u001b[49m)\n\u001b[0;32m      2\u001b[0m \u001b[38;5;28mprint\u001b[39m(category_and_product_list)\n",
      "\u001b[1;31mNameError\u001b[0m: name 'category_and_product_response_1' is not defined"
     ]
    }
   ],
   "source": [
    "#category_and_product_list = read_string_to_list(category_and_product_response_1)\n",
    "#print(category_and_product_list)"
   ]
  },
  {
   "cell_type": "code",
   "execution_count": 10,
   "id": "18cf9bf3",
   "metadata": {},
   "outputs": [],
   "source": [
    "def generate_output_string(data_list):\n",
    "    output_string = \"\"\n",
    "\n",
    "    if data_list is None:\n",
    "        return output_string\n",
    "\n",
    "    for data in data_list:\n",
    "        try:\n",
    "            if \"treni\" in data:\n",
    "                products_list = data[\"treni\"]\n",
    "                for product_name in products_list:\n",
    "                    product = get_product_by_name(product_name)\n",
    "                    if product:\n",
    "                        output_string += json.dumps(product, indent=4) + \"\\n\"\n",
    "                    else:\n",
    "                        print(f\"Error: Product '{product_name}' not found\")\n",
    "            elif \"category\" in data:\n",
    "                category_name = data[\"category\"]\n",
    "                category_products = get_products_by_category(category_name)\n",
    "                for product in category_products:\n",
    "                    output_string += json.dumps(product, indent=4) + \"\\n\"\n",
    "            else:\n",
    "                print(\"Error: Invalid object format\")\n",
    "        except Exception as e:\n",
    "            print(f\"Error: {e}\")\n",
    "\n",
    "    return output_string "
   ]
  },
  {
   "cell_type": "code",
   "execution_count": 11,
   "id": "e1c94912",
   "metadata": {},
   "outputs": [
    {
     "ename": "NameError",
     "evalue": "name 'category_and_product_list' is not defined",
     "output_type": "error",
     "traceback": [
      "\u001b[1;31m---------------------------------------------------------------------------\u001b[0m",
      "\u001b[1;31mNameError\u001b[0m                                 Traceback (most recent call last)",
      "Cell \u001b[1;32mIn[11], line 1\u001b[0m\n\u001b[1;32m----> 1\u001b[0m product_information_for_user_message_1 \u001b[38;5;241m=\u001b[39m generate_output_string(\u001b[43mcategory_and_product_list\u001b[49m)\n\u001b[0;32m      2\u001b[0m \u001b[38;5;28mprint\u001b[39m(product_information_for_user_message_1)\n",
      "\u001b[1;31mNameError\u001b[0m: name 'category_and_product_list' is not defined"
     ]
    }
   ],
   "source": [
    "product_information_for_user_message_1 = generate_output_string(category_and_product_list)\n",
    "print(product_information_for_user_message_1)"
   ]
  },
  {
   "cell_type": "code",
   "execution_count": 50,
   "id": "f0f18363",
   "metadata": {},
   "outputs": [
    {
     "name": "stdout",
     "output_type": "stream",
     "text": [
      "The SmartX ProPhone has a 6.1-inch display, 128GB storage, 12MP dual camera, and 5G. The FotoSnap DSLR Camera has a 24.2MP sensor, 1080p video, 3-inch LCD, and interchangeable lenses. We have a variety of TVs, including the CineView 4K TV with a 55-inch display, 4K resolution, HDR, and smart TV features. We also have the SoundMax Home Theater system with 5.1 channel, 1000W output, wireless subwoofer, and Bluetooth. Do you have any specific questions about these products or any other products we offer?\n"
     ]
    }
   ],
   "source": [
    "system_message = f\"\"\"\n",
    "Sei un agente del cusomer service di Trenitalia.\\\n",
    "Rispondi in maniera amichevole che con un tono aiuto, \\\n",
    "con risposte coincise.\n",
    "Assicurati di chiedere domande pertinenti di followup all'utente.\n",
    "\"\"\"\n",
    "user_message_1 = f\"\"\"\n",
    "Devo andare da Milano a Roma, \\\n",
    "Vorrei partire alle 8.30 del 9/6/2023. \\\n",
    "Puoi consigliarmi il treno da prendere ed il prezzo del biglietto?\"\"\"\n",
    "messages =  [  \n",
    "{'role':'system',\n",
    " 'content': system_message},   \n",
    "{'role':'user',\n",
    " 'content': user_message_1},  \n",
    "{'role':'assistant',\n",
    " 'content': f\"\"\"Relevant product information:\\n\\\n",
    " {product_information_for_user_message_1}\"\"\"},   \n",
    "]\n",
    "final_response = get_completion_from_messages(messages)\n",
    "print(final_response)"
   ]
  },
  {
   "cell_type": "code",
   "execution_count": null,
   "id": "ac2f47ee",
   "metadata": {},
   "outputs": [],
   "source": []
  },
  {
   "cell_type": "code",
   "execution_count": null,
   "id": "11b1fd11",
   "metadata": {},
   "outputs": [],
   "source": []
  }
 ],
 "metadata": {
  "kernelspec": {
   "display_name": "Python 3 (ipykernel)",
   "language": "python",
   "name": "python3"
  },
  "language_info": {
   "codemirror_mode": {
    "name": "ipython",
    "version": 3
   },
   "file_extension": ".py",
   "mimetype": "text/x-python",
   "name": "python",
   "nbconvert_exporter": "python",
   "pygments_lexer": "ipython3",
   "version": "3.11.3"
  }
 },
 "nbformat": 4,
 "nbformat_minor": 5
}
